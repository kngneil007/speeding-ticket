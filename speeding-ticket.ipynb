{
 "cells": [
  {
   "cell_type": "markdown",
   "id": "ab2f2a14-b569-4e19-b704-25c06d0ce35c",
   "metadata": {},
   "source": [
    "# Step 1: Import Necessary Libraries"
   ]
  },
  {
   "cell_type": "code",
   "execution_count": 343,
   "id": "ec88c0b8-2fd9-4c7c-a4cc-4ca1a1fd3923",
   "metadata": {},
   "outputs": [],
   "source": [
    "import pandas as pd\n",
    "import numpy as np\n",
    "import matplotlib.pyplot as plt\n",
    "import seaborn as sns\n",
    "from sklearn.model_selection import train_test_split"
   ]
  },
  {
   "cell_type": "markdown",
   "id": "16ce2361-9b75-4356-a701-f1ed6caaab8a",
   "metadata": {},
   "source": [
    "# Step 2: Load the Data"
   ]
  },
  {
   "cell_type": "code",
   "execution_count": 345,
   "id": "b75a658a-139c-4cf2-82fe-706d0f3eca13",
   "metadata": {},
   "outputs": [
    {
     "data": {
      "text/html": [
       "<div>\n",
       "<style scoped>\n",
       "    .dataframe tbody tr th:only-of-type {\n",
       "        vertical-align: middle;\n",
       "    }\n",
       "\n",
       "    .dataframe tbody tr th {\n",
       "        vertical-align: top;\n",
       "    }\n",
       "\n",
       "    .dataframe thead th {\n",
       "        text-align: right;\n",
       "    }\n",
       "</style>\n",
       "<table border=\"1\" class=\"dataframe\">\n",
       "  <thead>\n",
       "    <tr style=\"text-align: right;\">\n",
       "      <th></th>\n",
       "      <th>Gender</th>\n",
       "      <th>Age</th>\n",
       "      <th>Date</th>\n",
       "      <th>Paid</th>\n",
       "    </tr>\n",
       "  </thead>\n",
       "  <tbody>\n",
       "    <tr>\n",
       "      <th>0</th>\n",
       "      <td>male</td>\n",
       "      <td>26</td>\n",
       "      <td>1</td>\n",
       "      <td>No</td>\n",
       "    </tr>\n",
       "    <tr>\n",
       "      <th>1</th>\n",
       "      <td>female</td>\n",
       "      <td>27</td>\n",
       "      <td>2</td>\n",
       "      <td>Yes</td>\n",
       "    </tr>\n",
       "    <tr>\n",
       "      <th>2</th>\n",
       "      <td>female</td>\n",
       "      <td>19</td>\n",
       "      <td>3</td>\n",
       "      <td>No</td>\n",
       "    </tr>\n",
       "    <tr>\n",
       "      <th>3</th>\n",
       "      <td>male</td>\n",
       "      <td>38</td>\n",
       "      <td>3</td>\n",
       "      <td>Yes</td>\n",
       "    </tr>\n",
       "    <tr>\n",
       "      <th>4</th>\n",
       "      <td>female</td>\n",
       "      <td>40</td>\n",
       "      <td>1</td>\n",
       "      <td>Yes</td>\n",
       "    </tr>\n",
       "  </tbody>\n",
       "</table>\n",
       "</div>"
      ],
      "text/plain": [
       "   Gender  Age  Date Paid\n",
       "0    male   26     1   No\n",
       "1  female   27     2  Yes\n",
       "2  female   19     3   No\n",
       "3    male   38     3  Yes\n",
       "4  female   40     1  Yes"
      ]
     },
     "execution_count": 345,
     "metadata": {},
     "output_type": "execute_result"
    }
   ],
   "source": [
    "data = pd.read_csv('new-new.csv')\n",
    "# Check the first few rows to make sure it's loaded correctly\n",
    "data.head()\n"
   ]
  },
  {
   "cell_type": "markdown",
   "id": "d085bd96-7f8b-4bf8-9433-06c4b2e5aa34",
   "metadata": {},
   "source": [
    "# Step 2.01: Check for Missing Values"
   ]
  },
  {
   "cell_type": "code",
   "execution_count": 347,
   "id": "43848ece-a6cf-45f1-ad14-4a630de4bb4f",
   "metadata": {},
   "outputs": [
    {
     "name": "stdout",
     "output_type": "stream",
     "text": [
      "Gender    0\n",
      "Age       0\n",
      "Date      0\n",
      "Paid      0\n",
      "dtype: int64\n"
     ]
    }
   ],
   "source": [
    "# Check for missing values in the entire dataset\n",
    "print(data.isnull().sum())\n"
   ]
  },
  {
   "cell_type": "markdown",
   "id": "fe3f0457-c6a7-4fec-9553-02c54f26738a",
   "metadata": {},
   "source": [
    "# Step 3: Check for Missing Values"
   ]
  },
  {
   "cell_type": "code",
   "execution_count": 349,
   "id": "85f8797f-088a-4aa1-bcfb-718e33720ecc",
   "metadata": {},
   "outputs": [
    {
     "name": "stdout",
     "output_type": "stream",
     "text": [
      "0\n"
     ]
    }
   ],
   "source": [
    "# Drop rows where 'Paid' column has NaN values\n",
    "data = data.dropna(subset=['Paid'])\n",
    "\n",
    "# Check to ensure there are no missing values in the 'Paid' column\n",
    "print(data['Paid'].isnull().sum())\n"
   ]
  },
  {
   "cell_type": "code",
   "execution_count": 350,
   "id": "f6fc4127-4108-4035-b970-c9000024a9ab",
   "metadata": {},
   "outputs": [
    {
     "name": "stdout",
     "output_type": "stream",
     "text": [
      "   Gender  Age  Date Paid\n",
      "0    male   26     1   No\n",
      "1  female   27     2  Yes\n",
      "2  female   19     3   No\n",
      "3    male   38     3  Yes\n",
      "4  female   40     1  Yes\n"
     ]
    }
   ],
   "source": [
    "# Check the first few rows of the dataset\n",
    "print(data.head())\n",
    "\n"
   ]
  },
  {
   "cell_type": "code",
   "execution_count": 351,
   "id": "35aa2fcc-1c8f-4147-88cd-0f474af58481",
   "metadata": {},
   "outputs": [
    {
     "name": "stdout",
     "output_type": "stream",
     "text": [
      "Index(['Gender', 'Age', 'Date', 'Paid'], dtype='object')\n"
     ]
    }
   ],
   "source": [
    "# Check the column names to ensure they are what we expect\n",
    "print(data.columns)"
   ]
  },
  {
   "cell_type": "code",
   "execution_count": 352,
   "id": "f94b65b3-d6d9-4a48-8fb6-989f0f0bb459",
   "metadata": {},
   "outputs": [
    {
     "name": "stdout",
     "output_type": "stream",
     "text": [
      "30\n"
     ]
    }
   ],
   "source": [
    "# Check the number of rows in the dataset\n",
    "print(len(data))\n"
   ]
  },
  {
   "cell_type": "code",
   "execution_count": 353,
   "id": "eaa6fe10-e9a5-42ac-8bfb-325e35ed9f93",
   "metadata": {},
   "outputs": [
    {
     "name": "stdout",
     "output_type": "stream",
     "text": [
      "Gender    0\n",
      "Age       0\n",
      "Date      0\n",
      "Paid      0\n",
      "dtype: int64\n"
     ]
    }
   ],
   "source": [
    "# Check for missing values in the dataset\n",
    "print(data.isnull().sum())\n"
   ]
  },
  {
   "cell_type": "markdown",
   "id": "48954e21-f1c5-4e25-a792-4777fca891ad",
   "metadata": {},
   "source": [
    "# Step 4: Convert \"Paid\" and \"Gender\" Columns to Numerical"
   ]
  },
  {
   "cell_type": "code",
   "execution_count": 355,
   "id": "e6c6c08e-bc78-4df0-9868-78cd4491a5db",
   "metadata": {},
   "outputs": [
    {
     "name": "stdout",
     "output_type": "stream",
     "text": [
      "   Gender  Age  Date  Paid\n",
      "0    male   26     1     0\n",
      "1  female   27     2     1\n",
      "2  female   19     3     0\n",
      "3    male   38     3     1\n",
      "4  female   40     1     1\n"
     ]
    }
   ],
   "source": [
    "# Convert the 'Paid' column to 1 (Yes) and 0 (No)\n",
    "data['Paid'] = data['Paid'].map({'Yes': 1, 'No': 0})\n",
    "\n",
    "# Check to make sure the conversion worked\n",
    "print(data.head())\n"
   ]
  },
  {
   "cell_type": "code",
   "execution_count": 356,
   "id": "1a60f6b6-7274-4ea3-bce8-35c9223b1076",
   "metadata": {},
   "outputs": [
    {
     "name": "stdout",
     "output_type": "stream",
     "text": [
      "   Age  Date  Paid  Gender_male\n",
      "0   26     1     0         True\n",
      "1   27     2     1        False\n",
      "2   19     3     0        False\n",
      "3   38     3     1         True\n",
      "4   40     1     1        False\n"
     ]
    }
   ],
   "source": [
    "# Convert the 'Gender' column to numerical using one-hot encoding\n",
    "data = pd.get_dummies(data, columns=['Gender'], drop_first=True)\n",
    "\n",
    "# Check the updated DataFrame\n",
    "print(data.head())\n"
   ]
  },
  {
   "cell_type": "code",
   "execution_count": 357,
   "id": "70aef006-6995-4ec8-9a3a-d1ee13d1304c",
   "metadata": {},
   "outputs": [
    {
     "name": "stdout",
     "output_type": "stream",
     "text": [
      "   Age  Date  Paid  Gender_male\n",
      "0   26     1     0            1\n",
      "1   27     2     1            0\n",
      "2   19     3     0            0\n",
      "3   38     3     1            1\n",
      "4   40     1     1            0\n"
     ]
    }
   ],
   "source": [
    "# Convert 'Gender_male' from boolean (True/False) to integer (1/0)\n",
    "data['Gender_male'] = data['Gender_male'].astype(int)\n",
    "\n",
    "# Check the updated DataFrame\n",
    "print(data.head())\n"
   ]
  },
  {
   "cell_type": "markdown",
   "id": "61dd3112-9377-4c4b-b557-b8f00f697cab",
   "metadata": {},
   "source": [
    "# Step 5: Split the Data for Training and Testing"
   ]
  },
  {
   "cell_type": "code",
   "execution_count": 359,
   "id": "580e181e-f6b9-4259-a6cc-de5ff1f0d6a4",
   "metadata": {},
   "outputs": [
    {
     "name": "stdout",
     "output_type": "stream",
     "text": [
      "(21, 3) (9, 3)\n"
     ]
    }
   ],
   "source": [
    "from sklearn.model_selection import train_test_split\n",
    "\n",
    "# Features (X) and target (y)\n",
    "X = data[['Age', 'Date', 'Gender_male']]  # Features\n",
    "y = data['Paid']  # Target\n",
    "\n",
    "# Split the data into training and testing sets (70% train, 30% test)\n",
    "X_train, X_test, y_train, y_test = train_test_split(X, y, test_size=0.3, random_state=42)\n",
    "\n",
    "# Check the shapes of the splits to confirm\n",
    "print(X_train.shape, X_test.shape)\n"
   ]
  },
  {
   "cell_type": "markdown",
   "id": "70e88e86-817e-4591-963a-ce8aa029e4ea",
   "metadata": {},
   "source": [
    "# Step 6: Train the DecisionTreeClassifier Model"
   ]
  },
  {
   "cell_type": "code",
   "execution_count": 379,
   "id": "15972e43-6577-4af4-b290-8620d6053e2a",
   "metadata": {},
   "outputs": [
    {
     "name": "stdout",
     "output_type": "stream",
     "text": [
      "Accuracy: 88.89%\n",
      "Confusion Matrix:\n",
      "[[0 0]\n",
      " [1 8]]\n"
     ]
    }
   ],
   "source": [
    "from sklearn.tree import DecisionTreeClassifier\n",
    "from sklearn.metrics import accuracy_score, confusion_matrix\n",
    "\n",
    "# Create and train the decision tree model\n",
    "model = DecisionTreeClassifier(random_state=42)\n",
    "model.fit(X_train, y_train)\n",
    "\n",
    "# Make predictions on the test data\n",
    "y_pred = model.predict(X_test)\n",
    "\n",
    "# Evaluate the model's accuracy\n",
    "accuracy = accuracy_score(y_test, y_pred)\n",
    "print(f'Accuracy: {accuracy * 100:.2f}%')\n",
    "\n",
    "# Generate the confusion matrix\n",
    "cm = confusion_matrix(y_test, y_pred)\n",
    "print('Confusion Matrix:')\n",
    "print(cm)\n",
    "\n"
   ]
  },
  {
   "cell_type": "markdown",
   "id": "aa26e4dd-f8c6-4a46-af4b-bac6135b1b59",
   "metadata": {},
   "source": [
    "# Step 7: Visualize the Confusion Matrix"
   ]
  },
  {
   "cell_type": "code",
   "execution_count": 382,
   "id": "d48b0ec0-c15b-48b0-aaa0-e089d4635f0c",
   "metadata": {},
   "outputs": [
    {
     "data": {
      "image/png": "[encoded data removed]",
      "text/plain": [
       "<Figure size 600x400 with 1 Axes>"
      ]
     },
     "metadata": {},
     "output_type": "display_data"
    }
   ],
   "source": [
    "import seaborn as sns\n",
    "import matplotlib.pyplot as plt\n",
    "\n",
    "# Plot the confusion matrix\n",
    "plt.figure(figsize=(6, 4))\n",
    "sns.heatmap(cm, annot=True, fmt='g', cmap='Blues', cbar=False)\n",
    "\n",
    "# Add labels and titles\n",
    "plt.title('Confusion Matrix')\n",
    "plt.xlabel('Predicted')\n",
    "plt.ylabel('Actual')\n",
    "plt.xticks([0.5, 1.5], ['Not Paid', 'Paid'])\n",
    "plt.yticks([0.5, 1.5], ['Not Paid', 'Paid'])\n",
    "\n",
    "# Show the plot\n",
    "plt.show()\n",
    "\n"
   ]
  },
  {
   "cell_type": "code",
   "execution_count": null,
   "id": "e9edc7ae-987a-4322-8674-586f55a3eab2",
   "metadata": {},
   "outputs": [],
   "source": []
  }
 ],
 "metadata": {
  "kernelspec": {
   "display_name": "Python 3 (ipykernel)",
   "language": "python",
   "name": "python3"
  },
  "language_info": {
   "codemirror_mode": {
    "name": "ipython",
    "version": 3
   },
   "file_extension": ".py",
   "mimetype": "text/x-python",
   "name": "python",
   "nbconvert_exporter": "python",
   "pygments_lexer": "ipython3",
   "version": "3.12.4"
  }
 },
 "nbformat": 4,
 "nbformat_minor": 5
}
